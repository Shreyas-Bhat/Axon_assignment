{
 "cells": [
  {
   "cell_type": "markdown",
   "metadata": {},
   "source": [
    "## part 1"
   ]
  },
  {
   "cell_type": "code",
   "execution_count": 71,
   "metadata": {},
   "outputs": [],
   "source": [
    "#To model two 2-bit inputs consider the following:\n",
    "#x1x2 - first input\n",
    "#x3x4- second input \n",
    "import numpy as np\n",
    "from matplotlib import pyplot as plt\n",
    "  \n",
    "def sigmoid(z):\n",
    "    return 1 / (1 + np.exp(-z))\n",
    "\n",
    "def initialize_parameters(input_features, neurons_hiddenlayers, output_features):\n",
    "    W1 = np.random.randn(neurons_hiddenlayers, inputFeatures)\n",
    "    W2 = np.random.randn(output_features, neurons_hiddenlayers)\n",
    "    b1 = np.zeros((neurons_hiddenlayers, 1))\n",
    "    b2 = np.zeros((output_features, 1))\n",
    "      \n",
    "    parameters = {\"W1\" : W1, \"b1\": b1,\n",
    "                  \"W2\" : W2, \"b2\": b2}\n",
    "    return parameters\n",
    "  \n",
    "# Forward Propagation\n",
    "def forward_propagation(X, Y, parameters):\n",
    "    m = X.shape[1]\n",
    "    W1 = parameters[\"W1\"]\n",
    "    W2 = parameters[\"W2\"]\n",
    "    b1 = parameters[\"b1\"]\n",
    "    b2 = parameters[\"b2\"]\n",
    "  \n",
    "    Z1 = np.dot(W1, X) + b1\n",
    "    A1 = sigmoid(Z1)\n",
    "    Z2 = np.dot(W2, A1) + b2\n",
    "    A2 = sigmoid(Z2)\n",
    "  \n",
    "    cache = (Z1, A1, W1, b1, Z2, A2, W2, b2)\n",
    "    logprobs = np.multiply(np.log(A2), Y) + np.multiply(np.log(1 - A2), (1 - Y))\n",
    "    cost = -np.sum(logprobs) / m\n",
    "    return cost, cache, A2\n",
    "  \n",
    "# Backward Propagation\n",
    "def backward_propagation(X, Y, cache):\n",
    "    m = X.shape[1]\n",
    "    (Z1, A1, W1, b1, Z2, A2, W2, b2) = cache\n",
    "      \n",
    "    dZ2 = A2 - Y\n",
    "    dW2 = np.dot(dZ2, A1.T) / m\n",
    "    db2 = np.sum(dZ2, axis = 1, keepdims = True)\n",
    "      \n",
    "    dA1 = np.dot(W2.T, dZ2)\n",
    "    dZ1 = np.multiply(dA1, A1 * (1- A1))\n",
    "    dW1 = np.dot(dZ1, X.T) / m\n",
    "    db1 = np.sum(dZ1, axis = 1, keepdims = True) / m\n",
    "      \n",
    "    gradients = {\"dZ2\": dZ2, \"dW2\": dW2, \"db2\": db2,\n",
    "                 \"dZ1\": dZ1, \"dW1\": dW1, \"db1\": db1}\n",
    "    return gradients\n",
    "  \n",
    "\n",
    "def update_parameters(parameters, gradients, learning_rate):\n",
    "    parameters[\"W1\"] = parameters[\"W1\"] - learning_rate * gradients[\"dW1\"]\n",
    "    parameters[\"W2\"] = parameters[\"W2\"] - learning_rate * gradients[\"dW2\"]\n",
    "    parameters[\"b1\"] = parameters[\"b1\"] - learning_rate * gradients[\"db1\"]\n",
    "    parameters[\"b2\"] = parameters[\"b2\"] - learning_rate * gradients[\"db2\"]\n",
    "    return parameters\n",
    " \n",
    "X = np.array([[0, 0, 1, 1], [0, 1, 0, 1]]) # XOR input\n",
    "Y = np.array([[0, 1, 1, 0]]) # XOR output\n",
    "  \n",
    "\n",
    "neurons_hiddenlayers = 1 \n",
    "inputFeatures = X.shape[0] # number of input features (2)\n",
    "output_features = Y.shape[0] # number of output features (1)\n",
    "parameters = initialize_parameters(inputFeatures, neurons_hiddenlayers, output_features)\n",
    "epoch = 100000\n",
    "learning_rate = 0.01\n",
    "losses = np.zeros((epoch, 1))\n",
    "  \n",
    "for i in range(epoch):\n",
    "    losses[i, 0], cache, A2 = forward_propagation(X, Y, parameters)\n",
    "    gradients = backward_propagation(X, Y, cache)\n",
    "    parameters = update_parameters(parameters, gradients, learning_rate)\n",
    "  \n",
    "\n",
    "  \n"
   ]
  },
  {
   "cell_type": "code",
   "execution_count": 72,
   "metadata": {},
   "outputs": [
    {
     "data": {
      "image/png": "[encoded data removed]",
      "text/plain": [
       "<Figure size 432x288 with 1 Axes>"
      ]
     },
     "metadata": {
      "needs_background": "light"
     },
     "output_type": "display_data"
    }
   ],
   "source": [
    "# Evaluating the performance\n",
    "plt.figure()\n",
    "plt.plot(losses)\n",
    "plt.xlabel(\"EPOCHS\")\n",
    "plt.ylabel(\"Loss value\")\n",
    "plt.show()"
   ]
  },
  {
   "cell_type": "code",
   "execution_count": 93,
   "metadata": {},
   "outputs": [
    {
     "name": "stdout",
     "output_type": "stream",
     "text": [
      "[[0.]]\n"
     ]
    }
   ],
   "source": [
    "# Testing\n",
    "#XOR prediction for x1 and x3\n",
    "Xi = np.array([[0], [1]]) # XOR input\n",
    "cost, _, A2 = forward_propagation(Xi, Y, parameters)\n",
    "prediction1 = (A2 > 0.5) * 1.0\n",
    "# print(Xi)\n",
    "print(prediction1)"
   ]
  },
  {
   "cell_type": "code",
   "execution_count": 94,
   "metadata": {},
   "outputs": [
    {
     "name": "stdout",
     "output_type": "stream",
     "text": [
      "[[1.]]\n"
     ]
    }
   ],
   "source": [
    "# Testing\n",
    "#XOR prediction for x2 and x4\n",
    "Xj = np.array([[1], [0]]) # XOR input\n",
    "cost, _, A2 = forward_propagation(Xj, Y, parameters)\n",
    "prediction2 = (A2 > 0.5) * 1.0\n",
    "# print(A2)\n",
    "print(prediction2)"
   ]
  },
  {
   "cell_type": "code",
   "execution_count": 95,
   "metadata": {},
   "outputs": [
    {
     "name": "stdout",
     "output_type": "stream",
     "text": [
      "[[0. 1.]]\n"
     ]
    }
   ],
   "source": [
    "final_pred = np.concatenate((prediction1,prediction2),axis=1)\n",
    "print(np.array(final_pred))\n",
    "# print(int(final_pred[0][0]))"
   ]
  },
  {
   "cell_type": "code",
   "execution_count": 96,
   "metadata": {},
   "outputs": [
    {
     "name": "stdout",
     "output_type": "stream",
     "text": [
      "1\n",
      "0\n"
     ]
    }
   ],
   "source": [
    "#passing throught NOT gate \n",
    "# define Unit Step Function\n",
    "def unit_step(v):\n",
    "    if v >= 0:\n",
    "        return 1\n",
    "    else:\n",
    "        return 0\n",
    "  \n",
    "def perceptron_model(x, w, b):\n",
    "    v = np.dot(w, x) + b\n",
    "    y = unitStep(v)\n",
    "    return y\n",
    "  \n",
    "# NOT Logic Function\n",
    "# w = -1, b = 0.5\n",
    "def NOT_logic_function(x):\n",
    "    w = -1\n",
    "    b = 0.5\n",
    "    return perceptron_model(x, w, b)\n",
    "  \n",
    "# testing the Perceptron Model\n",
    "print(NOT_logic_function(int(final_pred[0][0])))\n",
    "print(NOT_logic_function(int(final_pred[0][1])))"
   ]
  },
  {
   "cell_type": "markdown",
   "metadata": {},
   "source": [
    "## part 2"
   ]
  },
  {
   "cell_type": "markdown",
   "metadata": {},
   "source": [
    "1) 2 layer is minimum requirement as it can be reprsented as (x1 ∧ ~ x2) ∨ (~ x1 ∧ x2) => f(g(x1,x2),h(x1,x2)) needs to be computed( one layer + one layer then or)\n",
    "\n",
    "2) like i have already demonstrated, if we split the 2-bit binary digits, we can do XOR with 2 layers + 1 layer for NOT (reason: f(x1,x2) gives NOT)\n",
    "\n",
    "3) same as above\n",
    "\n",
    "4) using more neurons will result in consuming much more training time, and may lead to overfitting "
   ]
  }
 ],
 "metadata": {
  "kernelspec": {
   "display_name": "Python 3",
   "language": "python",
   "name": "python3"
  },
  "language_info": {
   "codemirror_mode": {
    "name": "ipython",
    "version": 3
   },
   "file_extension": ".py",
   "mimetype": "text/x-python",
   "name": "python",
   "nbconvert_exporter": "python",
   "pygments_lexer": "ipython3",
   "version": "3.7.3"
  }
 },
 "nbformat": 4,
 "nbformat_minor": 2
}
